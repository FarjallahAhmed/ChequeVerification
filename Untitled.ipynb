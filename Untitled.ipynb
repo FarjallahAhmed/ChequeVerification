{
 "cells": [
  {
   "cell_type": "markdown",
   "id": "64f6628d",
   "metadata": {},
   "source": [
    "# Cheque verification\n",
    "\n",
    "### 1/ Data understanding\n",
    "##### Variables :\n",
    "\n",
    "##### CHEQUE NO : Cheque Reference\n",
    "\n",
    "##### USER 1 : ID of the user who wrote the left half\n",
    "##### PEN1 : ID of the pen used to write the left half\n",
    "##### LETTERS WRIITEN 1 : Letters Written by the first user\n",
    "##### USER 2 : ID of the user who wrote the right half\n",
    "##### PEN2 : ID of the pen used to write the right part\n",
    "##### LETTERS WRIITEN 2 :  Letters Written by the second user\n",
    "##### BANK NAME : The name of the Bank\n",
    "\n",
    "##### PEN ID : ID of the Pen used to write the cheque\n",
    "##### PEN NAME  : The pen's brand's name\n",
    "##### COLOR : Color of the pen (Black or Blue)\n",
    "\n",
    "##### USER ID : ID of the user\n",
    "##### USER NAME : Name of the user"
   ]
  },
  {
   "cell_type": "markdown",
   "id": "238d0079",
   "metadata": {},
   "source": [
    "# Image Extraction"
   ]
  },
  {
   "cell_type": "code",
   "execution_count": 257,
   "id": "61494f1f",
   "metadata": {},
   "outputs": [
    {
     "name": "stdout",
     "output_type": "stream",
     "text": [
      "Requirement already satisfied: opencv-python in /home/mehdi/anaconda3/lib/python3.7/site-packages (4.5.5.62)\r\n",
      "Requirement already satisfied: numpy>=1.14.5 in /home/mehdi/anaconda3/lib/python3.7/site-packages (from opencv-python) (1.20.3)\r\n"
     ]
    }
   ],
   "source": [
    "!pip install opencv-python"
   ]
  },
  {
   "cell_type": "code",
   "execution_count": 258,
   "id": "0fcc0faa",
   "metadata": {},
   "outputs": [],
   "source": [
    "import cv2\n",
    "import os\n",
    "from sys import argv\n"
   ]
  },
  {
   "cell_type": "code",
   "execution_count": 259,
   "id": "e942ae01",
   "metadata": {},
   "outputs": [],
   "source": [
    "class ImageExtractor:\n",
    "    def __init__(self, currentWorkingDir, imagePath):\n",
    "        self.currentWorkingDir = currentWorkingDir\n",
    "        self.image = cv2.imread(imagePath)\n",
    "        self.imgResized = cv2.resize(self.image, (920, 400))\n",
    "        print(imagePath[0:13:1])\n",
    "\n",
    "    # Return Name Image extracted from Cheque\n",
    "    def nameImage(self,image):\n",
    "        nameExtractedImage = self.imgResized[80:125, 85:802]\n",
    "        return nameExtractedImage\n",
    "\n",
    "    # Return Amount Image extracted from Cheque\n",
    "    def amountImage(self,image):\n",
    "        amountExtractedImage = self.imgResized[147:185, 685:863]\n",
    "        cv2.imwrite(self.currentWorkingDir + \"/amount/\"+image,amountExtractedImage)\n",
    "        return self.currentWorkingDir + \"/amount/\"+image\n",
    "\n",
    "    # Return Path of Signature Image extracted from Cheque\n",
    "    def signatureImage(self,image):\n",
    "        signExtractedImage = self.imgResized[250:350, 750:900]\n",
    "        cv2.imwrite(self.currentWorkingDir + \"/signature/\"+image, signExtractedImage)\n",
    "        return self.currentWorkingDir + \"/signature/\"+image\n"
   ]
  },
  {
   "cell_type": "code",
   "execution_count": 260,
   "id": "d5f7eeff",
   "metadata": {},
   "outputs": [
    {
     "name": "stdout",
     "output_type": "stream",
     "text": [
      "/home/mehdi/Bureau/PI\n",
      "/home/mehdi/Bureau/PI/archive/TestSet/X\n",
      "/home/mehdi/Bureau/PI/Dataset/300/Cheque 309104.tif\n"
     ]
    }
   ],
   "source": [
    "# Current Working Directory\n",
    "currentWorkingDir = os.path.dirname(os.getcwd())\n",
    "currentWorkingDir = os.path.join(currentWorkingDir, \"PI\")\n",
    "print(currentWorkingDir)\n",
    "# Image Path\n",
    "imageDir = currentWorkingDir + \"/archive/TestSet/X\"\n",
    "print(imageDir)\n",
    "\n",
    "\n",
    "print(imagePath)"
   ]
  },
  {
   "cell_type": "code",
   "execution_count": 261,
   "id": "7f6d6b72",
   "metadata": {},
   "outputs": [
    {
     "name": "stdout",
     "output_type": "stream",
     "text": [
      "/home/mehdi/B\n",
      "/home/mehdi/B\n",
      "/home/mehdi/B\n",
      "/home/mehdi/B\n",
      "/home/mehdi/B\n",
      "/home/mehdi/B\n",
      "/home/mehdi/B\n",
      "/home/mehdi/B\n",
      "/home/mehdi/B\n",
      "/home/mehdi/B\n",
      "/home/mehdi/B\n",
      "/home/mehdi/B\n",
      "/home/mehdi/B\n",
      "/home/mehdi/B\n",
      "/home/mehdi/B\n",
      "/home/mehdi/B\n",
      "/home/mehdi/B\n",
      "/home/mehdi/B\n",
      "/home/mehdi/B\n",
      "/home/mehdi/B\n",
      "/home/mehdi/B\n",
      "/home/mehdi/B\n",
      "/home/mehdi/B\n",
      "/home/mehdi/B\n",
      "/home/mehdi/B\n",
      "/home/mehdi/B\n",
      "/home/mehdi/B\n",
      "/home/mehdi/B\n",
      "/home/mehdi/B\n"
     ]
    }
   ],
   "source": [
    "for filename in os.listdir(imageDir):\n",
    "    image = filename\n",
    "    imagePath = os.path.join(imageDir,filename)\n",
    "    imageExtractor = ImageExtractor(currentWorkingDir+\"/result\", imagePath)\n",
    "    # Get name, amount and signature extracted from cheque\n",
    "    nameImage = imageExtractor.nameImage(image)\n",
    "    amountImage = imageExtractor.amountImage(image)\n",
    "    signatureImage = imageExtractor.signatureImage(image)"
   ]
  },
  {
   "cell_type": "code",
   "execution_count": null,
   "id": "08d6a6e3",
   "metadata": {},
   "outputs": [],
   "source": []
  }
 ],
 "metadata": {
  "kernelspec": {
   "display_name": "Python 3",
   "language": "python",
   "name": "python3"
  },
  "language_info": {
   "codemirror_mode": {
    "name": "ipython",
    "version": 3
   },
   "file_extension": ".py",
   "mimetype": "text/x-python",
   "name": "python",
   "nbconvert_exporter": "python",
   "pygments_lexer": "ipython3",
   "version": "3.7.11"
  }
 },
 "nbformat": 4,
 "nbformat_minor": 5
}
